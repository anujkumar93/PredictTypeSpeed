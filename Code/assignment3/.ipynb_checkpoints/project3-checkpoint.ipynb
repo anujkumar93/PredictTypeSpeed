{
 "cells": [
  {
   "cell_type": "code",
   "execution_count": 1,
   "metadata": {
    "collapsed": false
   },
   "outputs": [],
   "source": [
    "import pickle\n",
    "import time, os, json\n",
    "import numpy as np\n",
    "import matplotlib.pyplot as plt\n",
    "\n",
    "from asgn3.gradient_check import eval_numerical_gradient, eval_numerical_gradient_array\n",
    "from asgn3.rnn_layers import *\n",
    "from asgn3.captioning_solver import CaptioningSolver\n",
    "from asgn3.classifiers.rnn import CaptioningRNN\n",
    "from asgn3.coco_utils import load_coco_data, sample_coco_minibatch, decode_captions\n",
    "from asgn3.image_utils import image_from_url\n",
    "%matplotlib inline\n",
    "# for auto-reloading external modules\n",
    "# see http://stackoverflow.com/questions/1907993/autoreload-of-modules-in-ipython\n",
    "%load_ext autoreload\n",
    "%autoreload 2\n",
    "\n",
    "def rel_error(x, y):\n",
    "  \"\"\" returns relative error \"\"\"\n",
    "  return np.max(np.abs(x - y) / (np.maximum(1e-8, np.abs(x) + np.abs(y))))"
   ]
  },
  {
   "cell_type": "code",
   "execution_count": 126,
   "metadata": {
    "collapsed": false
   },
   "outputs": [
    {
     "name": "stdout",
     "output_type": "stream",
     "text": [
      "X_val <type 'numpy.ndarray'> (234, 204, 3) float64\n",
      "X_train <type 'numpy.ndarray'> (936, 204, 3) float64\n",
      "X_test <type 'numpy.ndarray'> (292, 204, 3) float64\n",
      "test_features <type 'numpy.ndarray'> (292, 204, 3) float64\n",
      "idx_to_word <type 'dict'> 32\n",
      "train_captions <type 'numpy.ndarray'> (936, 17) int64\n",
      "val_captions <type 'numpy.ndarray'> (234, 17) int64\n",
      "test_captions <type 'numpy.ndarray'> (292, 17) int64\n",
      "val_features <type 'numpy.ndarray'> (234, 204, 3) float64\n",
      "y_val <type 'numpy.ndarray'> (234, 17) int64\n",
      "y_train <type 'numpy.ndarray'> (936, 17) int64\n",
      "train_features <type 'numpy.ndarray'> (936, 204, 3) float64\n",
      "y_test <type 'numpy.ndarray'> (292, 17) int64\n",
      "word_to_idx <type 'dict'> 32\n"
     ]
    }
   ],
   "source": [
    "data=pickle.load(open(\"../0.8s_rnn_rand.p\",\"rb\"))\n",
    "for k, v in data.iteritems():\n",
    "  if type(v) == np.ndarray:\n",
    "    print k, type(v), v.shape, v.dtype\n",
    "  else:\n",
    "    print k, type(v), len(v)"
   ]
  },
  {
   "cell_type": "code",
   "execution_count": 128,
   "metadata": {
    "collapsed": false
   },
   "outputs": [
    {
     "name": "stdout",
     "output_type": "stream",
     "text": [
      "number of nan values: 0\n",
      "number of inf values: 0\n"
     ]
    }
   ],
   "source": [
    "X_train,y_train=data['train_features'],data['train_captions']\n",
    "# X_val,y_val=data['X_val'],data['y_val']\n",
    "# num_classes=len(data['char_to_indx'])\n",
    "# def reformat(dataset):\n",
    "#   dataset = dataset.reshape((dataset.shape[0], -1)).astype(np.float32)\n",
    "#   return dataset\n",
    "# X_train=reformat(X_train)\n",
    "# X_val=reformat(X_val)\n",
    "print \"number of nan values:\",np.count_nonzero(np.isnan(X_train))\n",
    "print \"number of inf values:\",np.count_nonzero(np.isinf(X_train))"
   ]
  },
  {
   "cell_type": "code",
   "execution_count": 129,
   "metadata": {
    "collapsed": false
   },
   "outputs": [
    {
     "name": "stdout",
     "output_type": "stream",
     "text": [
      "1.0\n"
     ]
    }
   ],
   "source": [
    "train_features=data['train_features']\n",
    "diff=rel_error(train_features[0],train_features[1])\n",
    "print diff"
   ]
  },
  {
   "cell_type": "code",
   "execution_count": 130,
   "metadata": {
    "collapsed": false
   },
   "outputs": [
    {
     "data": {
      "image/png": "[encoded data removed]",
      "text/plain": [
       "<matplotlib.figure.Figure at 0x7f64c294d790>"
      ]
     },
     "metadata": {},
     "output_type": "display_data"
    }
   ],
   "source": [
    "#see a few feature vectors\n",
    "F = plt.gcf()\n",
    "F.set_size_inches(1, 500, forward=True)#Set forward to True to resize window along with plot in figure.\n",
    "plt.imshow(data['X_train'][2], interpolation='nearest')\n",
    "plt.colorbar()\n",
    "plt.savefig('../feature2.jpg')\n",
    "plt.show()"
   ]
  },
  {
   "cell_type": "code",
   "execution_count": 150,
   "metadata": {
    "collapsed": false
   },
   "outputs": [
    {
     "name": "stdout",
     "output_type": "stream",
     "text": [
      "X_val <type 'numpy.ndarray'> (234, 204, 3) float64\n",
      "X_train <type 'numpy.ndarray'> (936, 204, 3) float64\n",
      "X_test <type 'numpy.ndarray'> (292, 204, 3) float64\n",
      "test_features <type 'numpy.ndarray'> (292, 204, 3) float64\n",
      "idx_to_word <type 'dict'> 32\n",
      "train_captions <type 'numpy.ndarray'> (936, 17) int64\n",
      "val_captions <type 'numpy.ndarray'> (234, 17) int64\n",
      "test_captions <type 'numpy.ndarray'> (292, 17) int64\n",
      "val_features <type 'numpy.ndarray'> (234, 100) float64\n",
      "y_val <type 'numpy.ndarray'> (234, 17) int64\n",
      "y_train <type 'numpy.ndarray'> (936, 17) int64\n",
      "train_features <type 'numpy.ndarray'> (936, 100) float64\n",
      "y_test <type 'numpy.ndarray'> (292, 17) int64\n",
      "word_to_idx <type 'dict'> 32\n"
     ]
    }
   ],
   "source": [
    "from sklearn.decomposition import PCA\n",
    "\n",
    "def reformat(dataset):\n",
    "  pca = PCA(n_components=100)\n",
    "  dataset = dataset.reshape((dataset.shape[0], -1)).astype(np.float32)\n",
    "  dataset=pca.fit_transform(dataset)\n",
    "  return dataset\n",
    "data['train_features']=reformat(data['train_features'])\n",
    "data['val_features']=reformat(data['val_features'])\n",
    "for k, v in data.iteritems():\n",
    "  if type(v) == np.ndarray:\n",
    "    print k, type(v), v.shape, v.dtype\n",
    "  else:\n",
    "    print k, type(v), len(v)"
   ]
  },
  {
   "cell_type": "code",
   "execution_count": null,
   "metadata": {
    "collapsed": false
   },
   "outputs": [
    {
     "name": "stdout",
     "output_type": "stream",
     "text": [
      "(Iteration 1 / 720) loss: 19.055518\n",
      "(Iteration 51 / 720) loss: 15.976808\n",
      "(Iteration 101 / 720) loss: 15.847906\n",
      "(Iteration 151 / 720) loss: 13.098662\n",
      "(Iteration 201 / 720) loss: 13.974594\n",
      "(Iteration 251 / 720) loss: 12.688143\n",
      "(Iteration 301 / 720) loss: 13.468715\n",
      "(Iteration 351 / 720) loss: 13.165995\n",
      "(Iteration 401 / 720) loss: 9.639085\n",
      "(Iteration 451 / 720) loss: 10.220467\n",
      "(Iteration 501 / 720) loss: 9.052066\n",
      "(Iteration 551 / 720) loss: 13.768818\n",
      "(Iteration 601 / 720) loss: 9.242774\n",
      "(Iteration 651 / 720) loss: 10.132110\n"
     ]
    }
   ],
   "source": [
    "fc_hidden_dims = [512,512,512,512,512,512,512]\n",
    "dropouts=[0.1,0,25,0.5]\n",
    "regs=[1e-6,1e-5,1e-4]\n",
    "weight_scales = [1e-3,1e-2]\n",
    "learning_rates=[8e-6,3e-5,8e-5]\n",
    "lr_decay=0.99\n",
    "input_dim=256 #the input dimension to RNN from FNN. can be any arbitrary number\n",
    "best_val_acc=0\n",
    "best_model=None\n",
    "best_lr=None\n",
    "\n",
    "num_train = 500\n",
    "mask=np.random.choice(dataset.shape[0],num_train)\n",
    "small_data = {\n",
    "  'train_features': data['train_features'][mask],\n",
    "  'train_captions': data['train_captions'][mask],\n",
    "  'val_features': data['val_features'],\n",
    "  'val_captions': data['val_captions'],\n",
    "  'test_features': data['test_features'],\n",
    "  'test_captions': data['test_captions'],\n",
    "  'word_to_idx': data['word_to_idx'],\n",
    "  'idx_to_word': data['idx_to_word'],\n",
    "}\n",
    "\n",
    "small_lstm_model = CaptioningRNN(\n",
    "          cell_type='lstm',\n",
    "          word_to_idx=data['word_to_idx'],\n",
    "          fc_hidden_dims=fc_hidden_dims,\n",
    "          fc_input_dim=data['train_features'].shape[1],\n",
    "          input_dim=input_dim,\n",
    "          hidden_dim=1024,\n",
    "          wordvec_dim=256,\n",
    "          dtype=np.float64,\n",
    "          weight_scale=weight_scale, \n",
    "          use_batchnorm=True, \n",
    "          dropout=dropout,\n",
    "          reg=reg\n",
    "        )\n",
    "\n",
    "small_lstm_solver = CaptioningSolver(small_lstm_model, small_data,\n",
    "           update_rule='adam',\n",
    "           num_epochs=40,\n",
    "           batch_size=50,\n",
    "           optim_config={\n",
    "             'learning_rate': 8e-5,\n",
    "           },\n",
    "           lr_decay=lr_decay,\n",
    "           verbose=True, print_every=50,\n",
    "         )\n",
    "\n",
    "small_lstm_solver.train()\n",
    "\n",
    "# Plot the training losses\n",
    "plt.plot(small_lstm_solver.loss_history)\n",
    "plt.xlabel('Iteration')\n",
    "plt.ylabel('Loss')\n",
    "plt.title('Training loss history')\n",
    "plt.show()"
   ]
  },
  {
   "cell_type": "code",
   "execution_count": 147,
   "metadata": {
    "collapsed": false
   },
   "outputs": [
    {
     "name": "stdout",
     "output_type": "stream",
     "text": [
      "train : ['<START> <lshft> i <bcksp> d e c e a s e d <END>', '<START> w h o l e <END>'] ['<lshft> a r i n i n t i n t <END>', 'w h o r e <END>']\n",
      "val : ['<START> o f <END>', '<START> <lshft> b u t <END>'] ['<lshft> e r e <END>', 'a a n s s <END>']\n"
     ]
    }
   ],
   "source": [
    "for split in ['train', 'val']:\n",
    "  minibatch = sample_coco_minibatch(data, split=split, batch_size=2)\n",
    "  gt_captions, features = minibatch\n",
    "  gt_captions = decode_captions(gt_captions, data['idx_to_word'])\n",
    "\n",
    "  sample_captions = small_lstm_model.sample(features)\n",
    "  sample_captions = decode_captions(sample_captions, data['idx_to_word'])\n",
    "\n",
    "  print split,\":\",gt_captions, sample_captions"
   ]
  }
 ],
 "metadata": {
  "kernelspec": {
   "display_name": "Python [Root]",
   "language": "python",
   "name": "Python [Root]"
  },
  "language_info": {
   "codemirror_mode": {
    "name": "ipython",
    "version": 2
   },
   "file_extension": ".py",
   "mimetype": "text/x-python",
   "name": "python",
   "nbconvert_exporter": "python",
   "pygments_lexer": "ipython2",
   "version": "2.7.12"
  }
 },
 "nbformat": 4,
 "nbformat_minor": 0
}
