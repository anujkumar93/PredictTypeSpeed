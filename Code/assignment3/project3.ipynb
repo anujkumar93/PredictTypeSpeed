{
 "cells": [
  {
   "cell_type": "code",
   "execution_count": 43,
   "metadata": {
    "collapsed": false
   },
   "outputs": [
    {
     "name": "stdout",
     "output_type": "stream",
     "text": [
      "The autoreload extension is already loaded. To reload it, use:\n",
      "  %reload_ext autoreload\n"
     ]
    }
   ],
   "source": [
    "import pickle\n",
    "import time, os, json\n",
    "import numpy as np\n",
    "import matplotlib.pyplot as plt\n",
    "\n",
    "from asgn3.gradient_check import eval_numerical_gradient, eval_numerical_gradient_array\n",
    "from asgn3.rnn_layers import *\n",
    "from asgn3.captioning_solver import CaptioningSolver\n",
    "from asgn3.classifiers.rnn import CaptioningRNN\n",
    "from asgn3.coco_utils import load_coco_data, sample_coco_minibatch, decode_captions\n",
    "from asgn3.image_utils import image_from_url\n",
    "%matplotlib inline\n",
    "# for auto-reloading external modules\n",
    "# see http://stackoverflow.com/questions/1907993/autoreload-of-modules-in-ipython\n",
    "%load_ext autoreload\n",
    "%autoreload 2\n",
    "\n",
    "def rel_error(x, y):\n",
    "  \"\"\" returns relative error \"\"\"\n",
    "  return np.max(np.abs(x - y) / (np.maximum(1e-8, np.abs(x) + np.abs(y))))"
   ]
  },
  {
   "cell_type": "code",
   "execution_count": 44,
   "metadata": {
    "collapsed": false
   },
   "outputs": [
    {
     "name": "stdout",
     "output_type": "stream",
     "text": [
      "X_val <type 'numpy.ndarray'> (313, 204, 3) float64\n",
      "Dy_val <type 'numpy.ndarray'> (313,) int64\n",
      "X_train <type 'numpy.ndarray'> (2817, 204, 3) float64\n",
      "X_test <type 'numpy.ndarray'> (348, 204, 3) float64\n",
      "idx_to_word <type 'dict'> 31\n",
      "train_captions <type 'numpy.ndarray'> (2817, 17) int64\n",
      "test_features <type 'numpy.ndarray'> (348, 204, 3) float64\n",
      "val_captions <type 'numpy.ndarray'> (313, 17) int64\n",
      "test_captions <type 'numpy.ndarray'> (348, 17) int64\n",
      "y_test <type 'numpy.ndarray'> (348, 17) int64\n",
      "val_features <type 'numpy.ndarray'> (313, 204, 3) float64\n",
      "word_to_idx <type 'dict'> 31\n",
      "y_val <type 'numpy.ndarray'> (313, 17) int64\n",
      "Dy_train <type 'numpy.ndarray'> (2817,) int64\n",
      "train_features <type 'numpy.ndarray'> (2817, 204, 3) float64\n",
      "Dy_test <type 'numpy.ndarray'> (348,) int64\n",
      "DX_train <type 'numpy.ndarray'> (2817, 2) float64\n",
      "DX_test <type 'numpy.ndarray'> (348, 2) float64\n",
      "DX_val <type 'numpy.ndarray'> (313, 2) float64\n",
      "y_train <type 'numpy.ndarray'> (2817, 17) int64\n"
     ]
    }
   ],
   "source": [
    "data=pickle.load(open(\"../0.5s_rnn_rand.p\",\"rb\"))\n",
    "for k, v in data.iteritems():\n",
    "  if type(v) == np.ndarray:\n",
    "    print k, type(v), v.shape, v.dtype\n",
    "  else:\n",
    "    print k, type(v), len(v)"
   ]
  },
  {
   "cell_type": "code",
   "execution_count": 45,
   "metadata": {
    "collapsed": false
   },
   "outputs": [
    {
     "name": "stdout",
     "output_type": "stream",
     "text": [
      "number of nan values: 0\n",
      "number of inf values: 0\n"
     ]
    }
   ],
   "source": [
    "X_train,y_train=data['train_features'],data['train_captions']\n",
    "# X_val,y_val=data['X_val'],data['y_val']\n",
    "# num_classes=len(data['char_to_indx'])\n",
    "# def reformat(dataset):\n",
    "#   dataset = dataset.reshape((dataset.shape[0], -1)).astype(np.float32)\n",
    "#   return dataset\n",
    "# X_train=reformat(X_train)\n",
    "# X_val=reformat(X_val)\n",
    "print \"number of nan values:\",np.count_nonzero(np.isnan(X_train))\n",
    "print \"number of inf values:\",np.count_nonzero(np.isinf(X_train))"
   ]
  },
  {
   "cell_type": "code",
   "execution_count": 46,
   "metadata": {
    "collapsed": false
   },
   "outputs": [
    {
     "name": "stdout",
     "output_type": "stream",
     "text": [
      "1.0\n"
     ]
    }
   ],
   "source": [
    "train_features=data['train_features']\n",
    "diff=rel_error(train_features[0],train_features[1])\n",
    "print diff"
   ]
  },
  {
   "cell_type": "code",
   "execution_count": 47,
   "metadata": {
    "collapsed": false
   },
   "outputs": [
    {
     "ename": "IOError",
     "evalue": "cannot write mode RGBA as JPEG",
     "output_type": "error",
     "traceback": [
      "\u001b[0;31m---------------------------------------------------------------------------\u001b[0m",
      "\u001b[0;31mIOError\u001b[0m                                   Traceback (most recent call last)",
      "\u001b[0;32m<ipython-input-47-d871309d0df4>\u001b[0m in \u001b[0;36m<module>\u001b[0;34m()\u001b[0m\n\u001b[1;32m      4\u001b[0m \u001b[0mplt\u001b[0m\u001b[0;34m.\u001b[0m\u001b[0mimshow\u001b[0m\u001b[0;34m(\u001b[0m\u001b[0mdata\u001b[0m\u001b[0;34m[\u001b[0m\u001b[0;34m'X_train'\u001b[0m\u001b[0;34m]\u001b[0m\u001b[0;34m[\u001b[0m\u001b[0;36m2\u001b[0m\u001b[0;34m]\u001b[0m\u001b[0;34m,\u001b[0m \u001b[0minterpolation\u001b[0m\u001b[0;34m=\u001b[0m\u001b[0;34m'nearest'\u001b[0m\u001b[0;34m)\u001b[0m\u001b[0;34m\u001b[0m\u001b[0m\n\u001b[1;32m      5\u001b[0m \u001b[0mplt\u001b[0m\u001b[0;34m.\u001b[0m\u001b[0mcolorbar\u001b[0m\u001b[0;34m(\u001b[0m\u001b[0;34m)\u001b[0m\u001b[0;34m\u001b[0m\u001b[0m\n\u001b[0;32m----> 6\u001b[0;31m \u001b[0mplt\u001b[0m\u001b[0;34m.\u001b[0m\u001b[0msavefig\u001b[0m\u001b[0;34m(\u001b[0m\u001b[0;34m'../feature2.jpg'\u001b[0m\u001b[0;34m)\u001b[0m\u001b[0;34m\u001b[0m\u001b[0m\n\u001b[0m\u001b[1;32m      7\u001b[0m \u001b[0;31m# plt.show()\u001b[0m\u001b[0;34m\u001b[0m\u001b[0;34m\u001b[0m\u001b[0m\n",
      "\u001b[0;32m/home/anuj/anaconda2/lib/python2.7/site-packages/matplotlib/pyplot.pyc\u001b[0m in \u001b[0;36msavefig\u001b[0;34m(*args, **kwargs)\u001b[0m\n\u001b[1;32m    686\u001b[0m \u001b[0;32mdef\u001b[0m \u001b[0msavefig\u001b[0m\u001b[0;34m(\u001b[0m\u001b[0;34m*\u001b[0m\u001b[0margs\u001b[0m\u001b[0;34m,\u001b[0m \u001b[0;34m**\u001b[0m\u001b[0mkwargs\u001b[0m\u001b[0;34m)\u001b[0m\u001b[0;34m:\u001b[0m\u001b[0;34m\u001b[0m\u001b[0m\n\u001b[1;32m    687\u001b[0m     \u001b[0mfig\u001b[0m \u001b[0;34m=\u001b[0m \u001b[0mgcf\u001b[0m\u001b[0;34m(\u001b[0m\u001b[0;34m)\u001b[0m\u001b[0;34m\u001b[0m\u001b[0m\n\u001b[0;32m--> 688\u001b[0;31m     \u001b[0mres\u001b[0m \u001b[0;34m=\u001b[0m \u001b[0mfig\u001b[0m\u001b[0;34m.\u001b[0m\u001b[0msavefig\u001b[0m\u001b[0;34m(\u001b[0m\u001b[0;34m*\u001b[0m\u001b[0margs\u001b[0m\u001b[0;34m,\u001b[0m \u001b[0;34m**\u001b[0m\u001b[0mkwargs\u001b[0m\u001b[0;34m)\u001b[0m\u001b[0;34m\u001b[0m\u001b[0m\n\u001b[0m\u001b[1;32m    689\u001b[0m     \u001b[0mfig\u001b[0m\u001b[0;34m.\u001b[0m\u001b[0mcanvas\u001b[0m\u001b[0;34m.\u001b[0m\u001b[0mdraw_idle\u001b[0m\u001b[0;34m(\u001b[0m\u001b[0;34m)\u001b[0m   \u001b[0;31m# need this if 'transparent=True' to reset colors\u001b[0m\u001b[0;34m\u001b[0m\u001b[0m\n\u001b[1;32m    690\u001b[0m     \u001b[0;32mreturn\u001b[0m \u001b[0mres\u001b[0m\u001b[0;34m\u001b[0m\u001b[0m\n",
      "\u001b[0;32m/home/anuj/anaconda2/lib/python2.7/site-packages/matplotlib/figure.pyc\u001b[0m in \u001b[0;36msavefig\u001b[0;34m(self, *args, **kwargs)\u001b[0m\n\u001b[1;32m   1563\u001b[0m             \u001b[0mself\u001b[0m\u001b[0;34m.\u001b[0m\u001b[0mset_frameon\u001b[0m\u001b[0;34m(\u001b[0m\u001b[0mframeon\u001b[0m\u001b[0;34m)\u001b[0m\u001b[0;34m\u001b[0m\u001b[0m\n\u001b[1;32m   1564\u001b[0m \u001b[0;34m\u001b[0m\u001b[0m\n\u001b[0;32m-> 1565\u001b[0;31m         \u001b[0mself\u001b[0m\u001b[0;34m.\u001b[0m\u001b[0mcanvas\u001b[0m\u001b[0;34m.\u001b[0m\u001b[0mprint_figure\u001b[0m\u001b[0;34m(\u001b[0m\u001b[0;34m*\u001b[0m\u001b[0margs\u001b[0m\u001b[0;34m,\u001b[0m \u001b[0;34m**\u001b[0m\u001b[0mkwargs\u001b[0m\u001b[0;34m)\u001b[0m\u001b[0;34m\u001b[0m\u001b[0m\n\u001b[0m\u001b[1;32m   1566\u001b[0m \u001b[0;34m\u001b[0m\u001b[0m\n\u001b[1;32m   1567\u001b[0m         \u001b[0;32mif\u001b[0m \u001b[0mframeon\u001b[0m\u001b[0;34m:\u001b[0m\u001b[0;34m\u001b[0m\u001b[0m\n",
      "\u001b[0;32m/home/anuj/anaconda2/lib/python2.7/site-packages/matplotlib/backend_bases.pyc\u001b[0m in \u001b[0;36mprint_figure\u001b[0;34m(self, filename, dpi, facecolor, edgecolor, orientation, format, **kwargs)\u001b[0m\n\u001b[1;32m   2230\u001b[0m                 \u001b[0morientation\u001b[0m\u001b[0;34m=\u001b[0m\u001b[0morientation\u001b[0m\u001b[0;34m,\u001b[0m\u001b[0;34m\u001b[0m\u001b[0m\n\u001b[1;32m   2231\u001b[0m                 \u001b[0mbbox_inches_restore\u001b[0m\u001b[0;34m=\u001b[0m\u001b[0m_bbox_inches_restore\u001b[0m\u001b[0;34m,\u001b[0m\u001b[0;34m\u001b[0m\u001b[0m\n\u001b[0;32m-> 2232\u001b[0;31m                 **kwargs)\n\u001b[0m\u001b[1;32m   2233\u001b[0m         \u001b[0;32mfinally\u001b[0m\u001b[0;34m:\u001b[0m\u001b[0;34m\u001b[0m\u001b[0m\n\u001b[1;32m   2234\u001b[0m             \u001b[0;32mif\u001b[0m \u001b[0mbbox_inches\u001b[0m \u001b[0;32mand\u001b[0m \u001b[0mrestore_bbox\u001b[0m\u001b[0;34m:\u001b[0m\u001b[0;34m\u001b[0m\u001b[0m\n",
      "\u001b[0;32m/home/anuj/anaconda2/lib/python2.7/site-packages/matplotlib/backends/backend_agg.pyc\u001b[0m in \u001b[0;36mprint_jpg\u001b[0;34m(self, filename_or_obj, *args, **kwargs)\u001b[0m\n\u001b[1;32m    581\u001b[0m                 \u001b[0moptions\u001b[0m\u001b[0;34m[\u001b[0m\u001b[0;34m'quality'\u001b[0m\u001b[0;34m]\u001b[0m \u001b[0;34m=\u001b[0m \u001b[0mrcParams\u001b[0m\u001b[0;34m[\u001b[0m\u001b[0;34m'savefig.jpeg_quality'\u001b[0m\u001b[0;34m]\u001b[0m\u001b[0;34m\u001b[0m\u001b[0m\n\u001b[1;32m    582\u001b[0m \u001b[0;34m\u001b[0m\u001b[0m\n\u001b[0;32m--> 583\u001b[0;31m             \u001b[0;32mreturn\u001b[0m \u001b[0mimage\u001b[0m\u001b[0;34m.\u001b[0m\u001b[0msave\u001b[0m\u001b[0;34m(\u001b[0m\u001b[0mfilename_or_obj\u001b[0m\u001b[0;34m,\u001b[0m \u001b[0mformat\u001b[0m\u001b[0;34m=\u001b[0m\u001b[0;34m'jpeg'\u001b[0m\u001b[0;34m,\u001b[0m \u001b[0;34m**\u001b[0m\u001b[0moptions\u001b[0m\u001b[0;34m)\u001b[0m\u001b[0;34m\u001b[0m\u001b[0m\n\u001b[0m\u001b[1;32m    584\u001b[0m         \u001b[0mprint_jpeg\u001b[0m \u001b[0;34m=\u001b[0m \u001b[0mprint_jpg\u001b[0m\u001b[0;34m\u001b[0m\u001b[0m\n\u001b[1;32m    585\u001b[0m \u001b[0;34m\u001b[0m\u001b[0m\n",
      "\u001b[0;32m/home/anuj/anaconda2/lib/python2.7/site-packages/PIL/Image.pyc\u001b[0m in \u001b[0;36msave\u001b[0;34m(self, fp, format, **params)\u001b[0m\n\u001b[1;32m   1891\u001b[0m \u001b[0;34m\u001b[0m\u001b[0m\n\u001b[1;32m   1892\u001b[0m         \u001b[0;32mtry\u001b[0m\u001b[0;34m:\u001b[0m\u001b[0;34m\u001b[0m\u001b[0m\n\u001b[0;32m-> 1893\u001b[0;31m             \u001b[0msave_handler\u001b[0m\u001b[0;34m(\u001b[0m\u001b[0mself\u001b[0m\u001b[0;34m,\u001b[0m \u001b[0mfp\u001b[0m\u001b[0;34m,\u001b[0m \u001b[0mfilename\u001b[0m\u001b[0;34m)\u001b[0m\u001b[0;34m\u001b[0m\u001b[0m\n\u001b[0m\u001b[1;32m   1894\u001b[0m         \u001b[0;32mfinally\u001b[0m\u001b[0;34m:\u001b[0m\u001b[0;34m\u001b[0m\u001b[0m\n\u001b[1;32m   1895\u001b[0m             \u001b[0;31m# do what we can to clean up\u001b[0m\u001b[0;34m\u001b[0m\u001b[0;34m\u001b[0m\u001b[0m\n",
      "\u001b[0;32m/home/anuj/anaconda2/lib/python2.7/site-packages/PIL/JpegImagePlugin.pyc\u001b[0m in \u001b[0;36m_save\u001b[0;34m(im, fp, filename)\u001b[0m\n\u001b[1;32m    602\u001b[0m         \u001b[0mrawmode\u001b[0m \u001b[0;34m=\u001b[0m \u001b[0mRAWMODE\u001b[0m\u001b[0;34m[\u001b[0m\u001b[0mim\u001b[0m\u001b[0;34m.\u001b[0m\u001b[0mmode\u001b[0m\u001b[0;34m]\u001b[0m\u001b[0;34m\u001b[0m\u001b[0m\n\u001b[1;32m    603\u001b[0m     \u001b[0;32mexcept\u001b[0m \u001b[0mKeyError\u001b[0m\u001b[0;34m:\u001b[0m\u001b[0;34m\u001b[0m\u001b[0m\n\u001b[0;32m--> 604\u001b[0;31m         \u001b[0;32mraise\u001b[0m \u001b[0mIOError\u001b[0m\u001b[0;34m(\u001b[0m\u001b[0;34m\"cannot write mode %s as JPEG\"\u001b[0m \u001b[0;34m%\u001b[0m \u001b[0mim\u001b[0m\u001b[0;34m.\u001b[0m\u001b[0mmode\u001b[0m\u001b[0;34m)\u001b[0m\u001b[0;34m\u001b[0m\u001b[0m\n\u001b[0m\u001b[1;32m    605\u001b[0m \u001b[0;34m\u001b[0m\u001b[0m\n\u001b[1;32m    606\u001b[0m     \u001b[0minfo\u001b[0m \u001b[0;34m=\u001b[0m \u001b[0mim\u001b[0m\u001b[0;34m.\u001b[0m\u001b[0mencoderinfo\u001b[0m\u001b[0;34m\u001b[0m\u001b[0m\n",
      "\u001b[0;31mIOError\u001b[0m: cannot write mode RGBA as JPEG"
     ]
    },
    {
     "data": {
      "image/png": "[encoded data removed]",
      "text/plain": [
       "<matplotlib.figure.Figure at 0x7f2688dc2fd0>"
      ]
     },
     "metadata": {},
     "output_type": "display_data"
    }
   ],
   "source": [
    "#see a few feature vectors\n",
    "F = plt.gcf()\n",
    "F.set_size_inches(10, 25, forward=True)#Set forward to True to resize window along with plot in figure.\n",
    "plt.imshow(data['X_train'][2], interpolation='nearest')\n",
    "plt.colorbar()\n",
    "plt.savefig('../feature2.jpg')\n",
    "# plt.show()"
   ]
  },
  {
   "cell_type": "code",
   "execution_count": 48,
   "metadata": {
    "collapsed": false
   },
   "outputs": [
    {
     "name": "stdout",
     "output_type": "stream",
     "text": [
      "X_val <type 'numpy.ndarray'> (313, 204, 3) float64\n",
      "Dy_val <type 'numpy.ndarray'> (313,) int64\n",
      "X_train <type 'numpy.ndarray'> (2817, 204, 3) float64\n",
      "X_test <type 'numpy.ndarray'> (348, 204, 3) float64\n",
      "idx_to_word <type 'dict'> 31\n",
      "train_captions <type 'numpy.ndarray'> (2817, 17) int64\n",
      "test_features <type 'numpy.ndarray'> (348, 612) float32\n",
      "val_captions <type 'numpy.ndarray'> (313, 17) int64\n",
      "test_captions <type 'numpy.ndarray'> (348, 17) int64\n",
      "y_test <type 'numpy.ndarray'> (348, 17) int64\n",
      "val_features <type 'numpy.ndarray'> (313, 612) float32\n",
      "word_to_idx <type 'dict'> 31\n",
      "y_val <type 'numpy.ndarray'> (313, 17) int64\n",
      "Dy_train <type 'numpy.ndarray'> (2817,) int64\n",
      "train_features <type 'numpy.ndarray'> (2817, 612) float32\n",
      "Dy_test <type 'numpy.ndarray'> (348,) int64\n",
      "DX_train <type 'numpy.ndarray'> (2817, 2) float64\n",
      "DX_test <type 'numpy.ndarray'> (348, 2) float64\n",
      "DX_val <type 'numpy.ndarray'> (313, 2) float64\n",
      "y_train <type 'numpy.ndarray'> (2817, 17) int64\n"
     ]
    }
   ],
   "source": [
    "from sklearn.decomposition import PCA\n",
    "\n",
    "def reformat(dataset):\n",
    "  pca = PCA(n_components=300)\n",
    "  dataset = dataset.reshape((dataset.shape[0], -1)).astype(np.float32)\n",
    "#   dataset=pca.fit_transform(dataset)\n",
    "  return dataset\n",
    "data['train_features']=reformat(data['train_features'])\n",
    "data['val_features']=reformat(data['val_features'])\n",
    "data['test_features']=reformat(data['test_features'])\n",
    "for k, v in data.iteritems():\n",
    "  if type(v) == np.ndarray:\n",
    "    print k, type(v), v.shape, v.dtype\n",
    "  else:\n",
    "    print k, type(v), len(v)"
   ]
  },
  {
   "cell_type": "code",
   "execution_count": 49,
   "metadata": {
    "collapsed": false
   },
   "outputs": [
    {
     "name": "stdout",
     "output_type": "stream",
     "text": [
      "TRYING....DROPOUT: 0.1\n",
      "REG: 1e-06\n",
      "INPUT_DIM 256\n",
      "LR 8e-06\n",
      "\n",
      "(Iteration 1 / 120) loss: 18.401612\n"
     ]
    },
    {
     "ename": "KeyboardInterrupt",
     "evalue": "",
     "output_type": "error",
     "traceback": [
      "\u001b[0;31m---------------------------------------------------------------------------\u001b[0m",
      "\u001b[0;31mKeyboardInterrupt\u001b[0m                         Traceback (most recent call last)",
      "\u001b[0;32m<ipython-input-49-6990ac9b07c5>\u001b[0m in \u001b[0;36m<module>\u001b[0;34m()\u001b[0m\n\u001b[1;32m     58\u001b[0m                          )\n\u001b[1;32m     59\u001b[0m \u001b[0;34m\u001b[0m\u001b[0m\n\u001b[0;32m---> 60\u001b[0;31m                 \u001b[0msmall_lstm_solver\u001b[0m\u001b[0;34m.\u001b[0m\u001b[0mtrain\u001b[0m\u001b[0;34m(\u001b[0m\u001b[0;34m)\u001b[0m\u001b[0;34m\u001b[0m\u001b[0m\n\u001b[0m\u001b[1;32m     61\u001b[0m \u001b[0;34m\u001b[0m\u001b[0m\n\u001b[1;32m     62\u001b[0m                 \u001b[0mcurr_loss\u001b[0m\u001b[0;34m=\u001b[0m\u001b[0msmall_lstm_solver\u001b[0m\u001b[0;34m.\u001b[0m\u001b[0mloss_history\u001b[0m\u001b[0;34m[\u001b[0m\u001b[0;34m-\u001b[0m\u001b[0;36m1\u001b[0m\u001b[0;34m]\u001b[0m\u001b[0;34m\u001b[0m\u001b[0m\n",
      "\u001b[0;32m/home/anuj/Documents/CMPSCI 696/DetectKeystroke/Code/assignment3/asgn3/captioning_solver.pyc\u001b[0m in \u001b[0;36mtrain\u001b[0;34m(self)\u001b[0m\n\u001b[1;32m    210\u001b[0m \u001b[0;34m\u001b[0m\u001b[0m\n\u001b[1;32m    211\u001b[0m     \u001b[0;32mfor\u001b[0m \u001b[0mt\u001b[0m \u001b[0;32min\u001b[0m \u001b[0mxrange\u001b[0m\u001b[0;34m(\u001b[0m\u001b[0mnum_iterations\u001b[0m\u001b[0;34m)\u001b[0m\u001b[0;34m:\u001b[0m\u001b[0;34m\u001b[0m\u001b[0m\n\u001b[0;32m--> 212\u001b[0;31m       \u001b[0mself\u001b[0m\u001b[0;34m.\u001b[0m\u001b[0m_step\u001b[0m\u001b[0;34m(\u001b[0m\u001b[0;34m)\u001b[0m\u001b[0;34m\u001b[0m\u001b[0m\n\u001b[0m\u001b[1;32m    213\u001b[0m \u001b[0;34m\u001b[0m\u001b[0m\n\u001b[1;32m    214\u001b[0m       \u001b[0;31m# Maybe print training loss\u001b[0m\u001b[0;34m\u001b[0m\u001b[0;34m\u001b[0m\u001b[0m\n",
      "\u001b[0;32m/home/anuj/Documents/CMPSCI 696/DetectKeystroke/Code/assignment3/asgn3/captioning_solver.pyc\u001b[0m in \u001b[0;36m_step\u001b[0;34m(self)\u001b[0m\n\u001b[1;32m    146\u001b[0m \u001b[0;34m\u001b[0m\u001b[0m\n\u001b[1;32m    147\u001b[0m     \u001b[0;31m# Compute loss and gradient\u001b[0m\u001b[0;34m\u001b[0m\u001b[0;34m\u001b[0m\u001b[0m\n\u001b[0;32m--> 148\u001b[0;31m     \u001b[0mloss\u001b[0m\u001b[0;34m,\u001b[0m \u001b[0mgrads\u001b[0m \u001b[0;34m=\u001b[0m \u001b[0mself\u001b[0m\u001b[0;34m.\u001b[0m\u001b[0mmodel\u001b[0m\u001b[0;34m.\u001b[0m\u001b[0mloss\u001b[0m\u001b[0;34m(\u001b[0m\u001b[0mfeatures\u001b[0m\u001b[0;34m,\u001b[0m \u001b[0mcaptions\u001b[0m\u001b[0;34m)\u001b[0m\u001b[0;34m\u001b[0m\u001b[0m\n\u001b[0m\u001b[1;32m    149\u001b[0m     \u001b[0mself\u001b[0m\u001b[0;34m.\u001b[0m\u001b[0mloss_history\u001b[0m\u001b[0;34m.\u001b[0m\u001b[0mappend\u001b[0m\u001b[0;34m(\u001b[0m\u001b[0mloss\u001b[0m\u001b[0;34m)\u001b[0m\u001b[0;34m\u001b[0m\u001b[0m\n\u001b[1;32m    150\u001b[0m \u001b[0;34m\u001b[0m\u001b[0m\n",
      "\u001b[0;32m/home/anuj/Documents/CMPSCI 696/DetectKeystroke/Code/assignment3/asgn3/classifiers/rnn.pyc\u001b[0m in \u001b[0;36mloss\u001b[0;34m(self, features, captions)\u001b[0m\n\u001b[1;32m    210\u001b[0m     \u001b[0;32melse\u001b[0m\u001b[0;34m:\u001b[0m\u001b[0;34m\u001b[0m\u001b[0m\n\u001b[1;32m    211\u001b[0m         \u001b[0;32mraise\u001b[0m \u001b[0mValueError\u001b[0m\u001b[0;34m(\u001b[0m\u001b[0;34m\"Invalid cell_type\"\u001b[0m\u001b[0;34m)\u001b[0m\u001b[0;34m\u001b[0m\u001b[0m\n\u001b[0;32m--> 212\u001b[0;31m     \u001b[0mgrads\u001b[0m\u001b[0;34m[\u001b[0m\u001b[0;34m'W_embed'\u001b[0m\u001b[0;34m]\u001b[0m\u001b[0;34m=\u001b[0m\u001b[0mword_embedding_backward\u001b[0m\u001b[0;34m(\u001b[0m\u001b[0mdword_embed\u001b[0m\u001b[0;34m,\u001b[0m\u001b[0mcache_we\u001b[0m\u001b[0;34m)\u001b[0m\u001b[0;34m\u001b[0m\u001b[0m\n\u001b[0m\u001b[1;32m    213\u001b[0m     \u001b[0mgrads\u001b[0m\u001b[0;34m[\u001b[0m\u001b[0;34m'W_proj'\u001b[0m\u001b[0;34m]\u001b[0m\u001b[0;34m=\u001b[0m\u001b[0mscores\u001b[0m\u001b[0;34m.\u001b[0m\u001b[0mT\u001b[0m\u001b[0;34m.\u001b[0m\u001b[0mdot\u001b[0m\u001b[0;34m(\u001b[0m\u001b[0mdh0\u001b[0m\u001b[0;34m)\u001b[0m\u001b[0;34m\u001b[0m\u001b[0m\n\u001b[1;32m    214\u001b[0m     \u001b[0mgrads\u001b[0m\u001b[0;34m[\u001b[0m\u001b[0;34m'b_proj'\u001b[0m\u001b[0;34m]\u001b[0m\u001b[0;34m=\u001b[0m\u001b[0mnp\u001b[0m\u001b[0;34m.\u001b[0m\u001b[0msum\u001b[0m\u001b[0;34m(\u001b[0m\u001b[0mdh0\u001b[0m\u001b[0;34m,\u001b[0m\u001b[0;36m0\u001b[0m\u001b[0;34m)\u001b[0m\u001b[0;34m\u001b[0m\u001b[0m\n",
      "\u001b[0;32m/home/anuj/Documents/CMPSCI 696/DetectKeystroke/Code/assignment3/asgn3/rnn_layers.pyc\u001b[0m in \u001b[0;36mword_embedding_backward\u001b[0;34m(dout, cache)\u001b[0m\n\u001b[1;32m    209\u001b[0m   \u001b[0mx\u001b[0m\u001b[0;34m,\u001b[0m\u001b[0mW\u001b[0m\u001b[0;34m=\u001b[0m\u001b[0mcache\u001b[0m\u001b[0;34m\u001b[0m\u001b[0m\n\u001b[1;32m    210\u001b[0m   \u001b[0mdW\u001b[0m\u001b[0;34m=\u001b[0m\u001b[0mnp\u001b[0m\u001b[0;34m.\u001b[0m\u001b[0mzeros\u001b[0m\u001b[0;34m(\u001b[0m\u001b[0;34m(\u001b[0m\u001b[0mW\u001b[0m\u001b[0;34m.\u001b[0m\u001b[0mshape\u001b[0m\u001b[0;34m)\u001b[0m\u001b[0;34m)\u001b[0m\u001b[0;34m\u001b[0m\u001b[0m\n\u001b[0;32m--> 211\u001b[0;31m   \u001b[0mnp\u001b[0m\u001b[0;34m.\u001b[0m\u001b[0madd\u001b[0m\u001b[0;34m.\u001b[0m\u001b[0mat\u001b[0m\u001b[0;34m(\u001b[0m\u001b[0mdW\u001b[0m\u001b[0;34m,\u001b[0m\u001b[0mx\u001b[0m\u001b[0;34m,\u001b[0m\u001b[0mdout\u001b[0m\u001b[0;34m)\u001b[0m\u001b[0;34m\u001b[0m\u001b[0m\n\u001b[0m\u001b[1;32m    212\u001b[0m   \u001b[0;31m##############################################################################\u001b[0m\u001b[0;34m\u001b[0m\u001b[0;34m\u001b[0m\u001b[0m\n\u001b[1;32m    213\u001b[0m   \u001b[0;31m#                               END OF YOUR CODE                             #\u001b[0m\u001b[0;34m\u001b[0m\u001b[0;34m\u001b[0m\u001b[0m\n",
      "\u001b[0;31mKeyboardInterrupt\u001b[0m: "
     ]
    }
   ],
   "source": [
    "fc_hidden_dims = [512,512,512,512,512,512,512]\n",
    "dropouts=[0.1,0.25,0.5]\n",
    "regs=[1e-6,1e-5]\n",
    "weight_scale = 1e-3\n",
    "learning_rates=[8e-6,3e-5,8e-5]\n",
    "lr_decay=0.99\n",
    "input_dims=[256,512] #the input dimension to RNN from FNN. can be any arbitrary number\n",
    "best_loss=float('inf')\n",
    "best_model=None\n",
    "best_lr=None\n",
    "\n",
    "num_train = 100\n",
    "for dropout in dropouts:\n",
    "    for reg in regs:\n",
    "        for learning_rate in learning_rates:\n",
    "            for input_dim in input_dims:\n",
    "                print \"TRYING....DROPOUT:\", dropout\n",
    "                print \"REG:\", reg\n",
    "                print \"INPUT_DIM\", input_dim\n",
    "                print \"LR\", learning_rate\n",
    "                print \"\"\n",
    "                mask=np.random.choice(data['train_features'].shape[0],num_train)\n",
    "                small_data = {\n",
    "                  'train_features': data['train_features'][mask],\n",
    "                  'train_captions': data['train_captions'][mask],\n",
    "                  'val_features': data['val_features'],\n",
    "                  'val_captions': data['val_captions'],\n",
    "                  'test_features': data['test_features'],\n",
    "                  'test_captions': data['test_captions'],\n",
    "                  'word_to_idx': data['word_to_idx'],\n",
    "                  'idx_to_word': data['idx_to_word'],\n",
    "                }\n",
    "\n",
    "                small_lstm_model = CaptioningRNN(\n",
    "                          cell_type='lstm',\n",
    "                          word_to_idx=data['word_to_idx'],\n",
    "                          fc_hidden_dims=fc_hidden_dims,\n",
    "                          fc_input_dim=data['train_features'].shape[1],\n",
    "                          input_dim=input_dim,\n",
    "                          hidden_dim=1024,\n",
    "                          wordvec_dim=256,\n",
    "                          dtype=np.float64,\n",
    "                          weight_scale=weight_scale, \n",
    "                          use_batchnorm=True, \n",
    "                          dropout=dropout,\n",
    "                          reg=reg\n",
    "                        )\n",
    "\n",
    "                small_lstm_solver = CaptioningSolver(small_lstm_model, small_data,\n",
    "                           update_rule='adam',\n",
    "                           num_epochs=30,\n",
    "                           batch_size=25,\n",
    "                           optim_config={\n",
    "                             'learning_rate': learning_rate,\n",
    "                           },\n",
    "                           lr_decay=lr_decay,\n",
    "                           verbose=True, print_every=50,\n",
    "                         )\n",
    "\n",
    "                small_lstm_solver.train()\n",
    "                \n",
    "                curr_loss=small_lstm_solver.loss_history[-1]\n",
    "                if best_loss>curr_loss:\n",
    "                    print \"BEST LOSS:\", curr_loss\n",
    "                    print \"DROPOUT:\", dropout\n",
    "                    print \"REG:\", reg\n",
    "                    print \"INPUT_DIM\", input_dim\n",
    "                    print \"LR\", learning_rate\n",
    "                    print \"\"\n",
    "                    best_loss=curr_loss\n",
    "                    best_model=CaptioningRNN(\n",
    "                          cell_type='lstm',\n",
    "                          word_to_idx=data['word_to_idx'],\n",
    "                          fc_hidden_dims=fc_hidden_dims,\n",
    "                          fc_input_dim=data['train_features'].shape[1],\n",
    "                          input_dim=input_dim,\n",
    "                          hidden_dim=1024,\n",
    "                          wordvec_dim=256,\n",
    "                          dtype=np.float64,\n",
    "                          weight_scale=weight_scale, \n",
    "                          use_batchnorm=True, \n",
    "                          dropout=dropout,\n",
    "                          reg=reg\n",
    "                        )\n",
    "                    best_lr=learning_rate"
   ]
  },
  {
   "cell_type": "code",
   "execution_count": 50,
   "metadata": {
    "collapsed": false
   },
   "outputs": [
    {
     "name": "stdout",
     "output_type": "stream",
     "text": [
      "(Iteration 1 / 300) loss: 18.752219\n",
      "(Iteration 51 / 300) loss: 16.327110\n",
      "(Iteration 101 / 300) loss: 15.217775\n",
      "(Iteration 151 / 300) loss: 12.876948\n",
      "(Iteration 201 / 300) loss: 12.522507\n",
      "(Iteration 251 / 300) loss: 14.425136\n"
     ]
    },
    {
     "data": {
      "image/png": "[encoded data removed]",
      "text/plain": [
       "<matplotlib.figure.Figure at 0x7f2687f2b950>"
      ]
     },
     "metadata": {},
     "output_type": "display_data"
    }
   ],
   "source": [
    "fc_hidden_dims = [512,512,512,512,512,512,512]\n",
    "dropouts=[0.1,0.25,0.5]\n",
    "regs=[1e-6,1e-5]\n",
    "weight_scale = 1e-3\n",
    "learning_rates=[8e-6,3e-5,8e-5]\n",
    "lr_decay=0.99\n",
    "input_dims=[256,512] #the input dimension to RNN from FNN. can be any arbitrary number\n",
    "best_loss=float('inf')\n",
    "best_model=None\n",
    "best_lr=None\n",
    "\n",
    "num_train = 500\n",
    "mask=np.random.choice(data['train_features'].shape[0],num_train)\n",
    "small_data = {\n",
    "  'train_features': data['train_features'][mask],\n",
    "  'train_captions': data['train_captions'][mask],\n",
    "  'val_features': data['val_features'],\n",
    "  'val_captions': data['val_captions'],\n",
    "  'test_features': data['test_features'],\n",
    "  'test_captions': data['test_captions'],\n",
    "  'word_to_idx': data['word_to_idx'],\n",
    "  'idx_to_word': data['idx_to_word'],\n",
    "}\n",
    "\n",
    "best_model=CaptioningRNN(\n",
    "                          cell_type='lstm',\n",
    "                          word_to_idx=data['word_to_idx'],\n",
    "                          fc_hidden_dims=fc_hidden_dims,\n",
    "                          fc_input_dim=data['train_features'].shape[1],\n",
    "                          input_dim=512,\n",
    "                          hidden_dim=1024,\n",
    "                          wordvec_dim=256,\n",
    "                          dtype=np.float64,\n",
    "                          weight_scale=weight_scale, \n",
    "                          use_batchnorm=True, \n",
    "                          dropout=0.1,\n",
    "                          reg=1e-6\n",
    "                        )\n",
    "best_lr=2e-5                    \n",
    "                    \n",
    "small_lstm_solver = CaptioningSolver(best_model, small_data,\n",
    "                           update_rule='adam',\n",
    "                           num_epochs=30,\n",
    "                           batch_size=50,\n",
    "                           optim_config={\n",
    "                             'learning_rate': best_lr,\n",
    "                           },\n",
    "                           lr_decay=lr_decay,\n",
    "                           verbose=True, print_every=50,\n",
    "                         )\n",
    "\n",
    "small_lstm_solver.train()\n",
    "\n",
    "# Plot the training losses\n",
    "plt.plot(small_lstm_solver.loss_history)\n",
    "plt.xlabel('Iteration')\n",
    "plt.ylabel('Loss')\n",
    "plt.title('Training loss history')\n",
    "plt.show()"
   ]
  },
  {
   "cell_type": "code",
   "execution_count": 88,
   "metadata": {
    "collapsed": false
   },
   "outputs": [
    {
     "name": "stdout",
     "output_type": "stream",
     "text": [
      "train :\n",
      "Ground Truth: ['<START> m i n d <END>', '<START> i s <END>']\n",
      "Sampled: ['a a <END>', 'i n <END>']\n",
      "\n",
      "val :\n",
      "Ground Truth: ['<START> o f <END>', '<START> i <END>']\n",
      "Sampled: ['t h e <END>', 'a n <END>']\n",
      "\n"
     ]
    }
   ],
   "source": [
    "for split in ['train', 'val']:\n",
    "  minibatch = sample_coco_minibatch(small_data, split=split, batch_size=2)\n",
    "  gt_captions, features = minibatch\n",
    "  gt_captions = decode_captions(gt_captions, data['idx_to_word'])\n",
    "\n",
    "  sample_captions = best_model.sample(features)\n",
    "  sample_captions = decode_captions(sample_captions, data['idx_to_word'])\n",
    "\n",
    "  print split,\":\"\n",
    "  print \"Ground Truth:\",gt_captions\n",
    "  print \"Sampled:\",sample_captions\n",
    "  print \"\""
   ]
  },
  {
   "cell_type": "code",
   "execution_count": 86,
   "metadata": {
    "collapsed": false
   },
   "outputs": [
    {
     "name": "stdout",
     "output_type": "stream",
     "text": [
      "[ 0.00527611  0.99472389]\n",
      "[0 1 1 0 0 0 0 0 0 0 0 1 0 1 0 0 0 0 0 0 0 0 0 0 1 1 0 1 0 0 0 0 1 0 1 0 0\n",
      " 0 0 0 0 0 0 0 1 0 0 0 0 1 1 0 0 0 0 1 0 0 0 0 0 0 0 0 0 0 0 0 1 0 0 0 0 0\n",
      " 0 0 1 0 0 0 1 0 1 0 0 0 0 1 1 0 1 0 0 1 0 0 0 0 1 0 0 0 1 0 0 0 1 0 0 1 1\n",
      " 0 1 0 0 0 1 0 1 1 0 0 0 0 1 0 0 0 1 1 0 1 0 0 0 0 0 0 1 1 0 0 0 0 0 1 1 0\n",
      " 0 0 1 0 1 0 0 0 0 0 1 0 0 0 0 0 0 0 0 0 1 1 0 0 1 0 0 0 0 0 0 0 0 0 0 1 0\n",
      " 0 0 1 0 0 0 0 0 1 0 1 0 0 0 1 0 0 1 0 0 0 0 0 0 1 0 0 0 0 0 0 0 0 0 0 0 0\n",
      " 0 0 0 0 0 1 0 1 1 0 0 0 0 0 0 0 0 1 0 0 0 1 1 0 0 0 0 0 0 0 0 1 1 0 0 0 0\n",
      " 0 0 0 0 0 0 0 1 0 0 0 0 0 0 1 0 1 0 0 1 0 1 0 0 0 0 0 1 1 0 0 0 1 1 0 0 0\n",
      " 0 1 1 0 1 0 0 0 0 0 0 0 0 0 0 0 0 0 0 0 0 0 1 0 0 0 0 0 0 0 1 0 1 0 0 0 0\n",
      " 0 1 0 0 0 0 1 0 0 1 1 0 0 0 0]\n",
      "[0 0 0 0 0 0 0 0 0 0 0 0 0 0 0 0 0 0 0 0 0 0 0 0 0 0 0 0 0 0 0 0 0 0 0 0 0\n",
      " 0 0 0 0 0 0 0 0 0 0 0 0 0 0 0 0 0 0 0 0 0 0 0 0 0 0 0 0 0 0 0 0 0 0 0 0 0\n",
      " 0 0 0 0 0 0 0 0 0 0 0 0 0 0 0 0 0 0 0 0 0 0 0 0 0 0 0 0 0 0 0 0 0 0 0 0 0\n",
      " 0 0 0 0 0 0 0 0 0 0 0 0 0 0 0 0 0 0 0 0 0 0 0 0 0 0 0 0 0 0 0 0 0 0 0 0 0\n",
      " 0 0 0 0 0 0 0 0 0 0 0 0 0 0 0 0 0 0 0 0 0 0 0 0 0 0 0 0 0 0 0 0 0 0 0 0 0\n",
      " 0 0 0 0 0 0 0 0 0 0 0 0 0 0 0 0 0 0 0 0 0 0 0 0 0 0 0 0 0 0 0 0 0 0 0 0 0\n",
      " 0 0 0 0 0 0 0 0 0 0 0 0 0 0 0 0 0 0 0 0 0 0 0 0 0 0 0 0 0 0 0 0 0 0 0 0 0\n",
      " 0 0 0 0 0 0 0 0 0 0 0 1 1 1 1 1 1 1 1 1 1 1 1 1 1 1 1 1 1 1 1 1 1 1 1 1 1\n",
      " 1 1 1 1 1 1 1 1 1 1 1 1 1 1 1 1 1 1 1 1 1 1 1 1 1 1 1 1 1 1 1 1 1 1 1 1 1\n",
      " 1 1 1 1 1 1 1 1 1 1 1 1 1 1 1]\n",
      "0.655172413793\n"
     ]
    }
   ],
   "source": [
    "from sklearn.ensemble import BaggingClassifier\n",
    "from sklearn.neighbors import KNeighborsClassifier\n",
    "from sklearn.ensemble import RandomForestClassifier\n",
    "from sklearn.ensemble import ExtraTreesClassifier\n",
    "from sklearn.tree import DecisionTreeClassifier\n",
    "from sklearn.linear_model import LogisticRegression\n",
    "\n",
    "clf = ExtraTreesClassifier()\n",
    "clf.fit(data['DX_train'], data['Dy_train'])\n",
    "print(clf.feature_importances_)\n",
    "Dy_pred=clf.predict(data['DX_test'])\n",
    "print(Dy_pred)\n",
    "print(data['Dy_test'])\n",
    "print(clf.score(data['DX_test'],data['Dy_test']))"
   ]
  },
  {
   "cell_type": "code",
   "execution_count": null,
   "metadata": {
    "collapsed": true
   },
   "outputs": [],
   "source": [
    "import torch\n",
    "from torch.autograd import Variable\n",
    "import torch.nn as nn\n",
    "import torch.nn.functional as F\n",
    "import torch.optim as optim\n",
    "\n",
    "class Net(nn.Module):\n",
    "\n",
    "    def __init__(self):\n",
    "        super(Net, self).__init__()\n",
    "        # an affine operation: y = Wx + b\n",
    "        self.fc1 = nn.Linear(612, 512)\n",
    "        self.fc2 = nn.Linear(512, 512)\n",
    "        self.fc3 = nn.Linear(512, 512\n",
    "        self.fc4 = nn.Linear(512, 512)\n",
    "        self.fc5 = nn.Linear(512, 512)\n",
    "        self.fc6 = nn.Linear(512, 512)\n",
    "        self.fc7 = nn.Linear(512, 1)\n",
    "\n",
    "    def forward(self, x):\n",
    "        x = F.relu(self.fc1(x))\n",
    "        x = F.relu(self.fc2(x))\n",
    "        x = F.relu(self.fc3(x))\n",
    "        x = F.relu(self.fc4(x))\n",
    "        x = F.relu(self.fc5(x))\n",
    "        x = F.relu(self.fc6(x))\n",
    "        x = self.fc7(x)\n",
    "        return x\n",
    "\n",
    "net=Net()\n",
    "input = Variable(torch.randn(1, 1, 32, 32))\n",
    "optimizer = optim.SGD(net.parameters(), lr=0.01)\n",
    "\n",
    "# in your training loop:\n",
    "optimizer.zero_grad()   # zero the gradient buffers\n",
    "output = net(input)\n",
    "loss = criterion(output, target)\n",
    "loss.backward()\n",
    "optimizer.step() "
   ]
  }
 ],
 "metadata": {
  "kernelspec": {
   "display_name": "Python [Root]",
   "language": "python",
   "name": "Python [Root]"
  },
  "language_info": {
   "codemirror_mode": {
    "name": "ipython",
    "version": 2
   },
   "file_extension": ".py",
   "mimetype": "text/x-python",
   "name": "python",
   "nbconvert_exporter": "python",
   "pygments_lexer": "ipython2",
   "version": "2.7.12"
  }
 },
 "nbformat": 4,
 "nbformat_minor": 0
}
